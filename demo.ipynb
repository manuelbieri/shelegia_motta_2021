{
 "cells": [
  {
   "cell_type": "code",
   "execution_count": 1,
   "outputs": [
    {
     "data": {
      "text/plain": "<Figure size 432x288 with 1 Axes>",
      "image/png": "[encoded data removed]"
     },
     "metadata": {
      "needs_background": "light"
     },
     "output_type": "display_data"
    },
    {
     "data": {
      "text/plain": "<Figure size 432x288 with 1 Axes>",
      "image/png": "[encoded data removed]"
     },
     "metadata": {
      "needs_background": "light"
     },
     "output_type": "display_data"
    },
    {
     "name": "stdout",
     "output_type": "stream",
     "text": [
      "Assets:\n",
      "\t- A_s:\t-0.56\n",
      "\t- A_c:\t-0.050000000000000044\n",
      "\t- A-s:\t0.19\n",
      "\t- A-c:\t0.45\n",
      "Funding costs:\n",
      "\t- F(YY)s:\t0.25\n",
      "\t- F(YN)s:\t1.75\n",
      "\t- F(YY)c:\t0.5\n",
      "\t- F(YN)c:\t0.25\n",
      "Utility - Levels for different Market Configurations:\n",
      "\tbasic         I(C)          E(P)          I(C)E(P)      E(C)          I(C)E(C)      \n",
      "\t-π(I): 1.25 | -π(I): 1.5  | -π(I): 0    | -π(I): 0    | -π(I): 1.5  | -π(I): 1.75 | \n",
      "\t-π(E): 0.25 | -π(E): 0    | -π(E): 1.01 | -π(E): 0.51 | -π(E): 0.5  | -π(E): 0.25 | \n",
      "\t-CS  : 0    | -CS  : 0    | -CS  : 1    | -CS  : 1.5  | -CS  : 0    | -CS  : 0    | \n",
      "\t-W   : 1.5  | -W   : 1.5  | -W   : 2.01 | -W   : 2.01 | -W   : 2.0  | -W   : 2.0  | \n"
     ]
    }
   ],
   "source": [
    "import Shelegia_Motta_2021\n",
    "\n",
    "base_model: Shelegia_Motta_2021.IModel = Shelegia_Motta_2021.BaseModel()\n",
    "base_model.plot_incumbent_best_answers()\n",
    "base_model.plot_equilibrium()\n",
    "print(base_model)"
   ],
   "metadata": {
    "collapsed": false,
    "pycharm": {
     "name": "#%%\n"
    }
   }
  },
  {
   "cell_type": "code",
   "execution_count": 2,
   "outputs": [
    {
     "name": "stdout",
     "output_type": "stream",
     "text": [
      "Assets:\n",
      "\t- A_s:\t-0.56\n",
      "\t- A_c:\t-0.050000000000000044\n",
      "\t- A-s:\t0.19\n",
      "\t- A-c:\t0.45\n",
      "Funding costs:\n",
      "\t- F(YY)s:\t0.25\n",
      "\t- F(YN)s:\t1.75\n",
      "\t- F(YY)c:\t0.5\n",
      "\t- F(YN)c:\t0.25\n",
      "\t- F(ACQ)s:\t1.4049999999999998\n",
      "\t- F(ACQ)c:\t0.4\n",
      "Utility - Levels for different Market Configurations:\n",
      "\tbasic         I(C)          E(P)          I(C)E(P)      E(C)          I(C)E(C)      \n",
      "\t-π(I): 1.25 | -π(I): 1.5  | -π(I): 0    | -π(I): 0    | -π(I): 1.5  | -π(I): 1.75 | \n",
      "\t-π(E): 0.25 | -π(E): 0    | -π(E): 1.01 | -π(E): 0.51 | -π(E): 0.5  | -π(E): 0.25 | \n",
      "\t-CS  : 0    | -CS  : 0    | -CS  : 1    | -CS  : 1.5  | -CS  : 0    | -CS  : 0    | \n",
      "\t-W   : 1.5  | -W   : 1.5  | -W   : 2.01 | -W   : 2.01 | -W   : 2.0  | -W   : 2.0  | \n"
     ]
    }
   ],
   "source": [
    "acquisition_model: Shelegia_Motta_2021.IModel = Shelegia_Motta_2021.AcquisitionModel()\n",
    "print(acquisition_model)\n"
   ],
   "metadata": {
    "collapsed": false,
    "pycharm": {
     "name": "#%%\n"
    }
   }
  }
 ],
 "metadata": {
  "celltoolbar": "Slideshow",
  "kernelspec": {
   "name": "python3",
   "language": "python",
   "display_name": "Python 3 (ipykernel)"
  },
  "language_info": {
   "codemirror_mode": {
    "name": "ipython",
    "version": 3
   },
   "file_extension": ".py",
   "mimetype": "text/x-python",
   "name": "python",
   "nbconvert_exporter": "python",
   "pygments_lexer": "ipython3",
   "version": "3.8.6"
  }
 },
 "nbformat": 4,
 "nbformat_minor": 1
}