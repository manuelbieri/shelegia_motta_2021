{
 "cells": [
  {
   "cell_type": "markdown",
   "metadata": {
    "pycharm": {
     "name": "#%% md\n"
    },
    "slideshow": {
     "slide_type": "slide"
    }
   },
   "source": [
    "# Shelegia and Motta (2021)"
   ]
  },
  {
   "cell_type": "markdown",
   "metadata": {
    "pycharm": {
     "name": "#%% md\n"
    },
    "slideshow": {
     "slide_type": "subslide"
    }
   },
   "source": [
    "### Products of the entrant and the incumbent\n",
    "\n",
    "| Product       | Description |\n",
    "|:--------------|:------------|\n",
    "| $I_P$         | Primary product sold by the incumbent (e.g. Platform like Facebook)\n",
    "| $E_C$         | Complementary product to $I_P$ (or $E_P$) currently sold by the entrant (e.g. Plugin or Game)\n",
    "| $I_C$         | Complementary product to $I_P$ potentially sold by the incumbent, which is an exact copy of $E_C$ \n",
    "| $E_P$         | Perfect substitute to $I_P$ potentially sold by the entrant\n",
    "| $\\tilde{E}_C$ | Complementary product to $I_P$ potentially sold by the entrant"
   ]
  },
  {
   "cell_type": "markdown",
   "metadata": {
    "slideshow": {
     "slide_type": "skip"
    }
   },
   "source": [
    "### Parameters\n",
    "\n",
    "| Parameter | Description |\n",
    "|:----------|:------------|\n",
    "| $u$       | Payoff gained from the primary product\n",
    "| $B$       | Even if the development of the additional product fails, the entrant gains a private benefit, called $B$\n",
    "| $\\delta$  | Additional utility gained from any complementary product combined with a primary product\n",
    "| $\\Delta$  | Additional utility gained from the substitute compared to the primary product of the incumbent\n",
    "| $K$       | Investment costs to develop a second product for the entrant\n",
    "\n",
    "Additional parameter in the BargainingPowerModel:<br>\n",
    "\n",
    "| Parameter | Description |\n",
    "|:----------|:------------|\n",
    "| $\\beta$   | Bargaining power of the incumbent relative to the entrant"
   ]
  },
  {
   "cell_type": "markdown",
   "metadata": {
    "slideshow": {
     "slide_type": "subslide"
    }
   },
   "source": [
    "#### Thresholds for the assets of the entrant\n",
    "\n",
    "| Threshold         | Formula of the Threshold     | Threshold Description |\n",
    "|:------------------|:-----------------------------|:----------------------|\n",
    "| $\\underline{A}_S$ | $B+K-\\Delta-\\delta(2-\\beta)$ | Minimum level of initial assets that ensure that the project of a perfect substitute gets funded if the incumbent does not copy\n",
    "| $\\underline{A}_C$ | $B+K-3\\delta(1-\\beta)$       | Minimum level of initial assets that ensure that the project of another complement gets funded if the incumbent does not copy\n",
    "| $\\overline{A}_S$  | $B+K-\\Delta$                 | Minimum level of initial assets that ensure the project of a perfect substitute gets funded if the incumbent copies\n",
    "| $\\overline{A}_C$  | $B+K-\\delta(1-\\beta)$        | Minimum level of initial assets that ensure that the project of another complement gets funded if the incumbent copies"
   ]
  },
  {
   "cell_type": "markdown",
   "metadata": {
    "slideshow": {
     "slide_type": "subslide"
    }
   },
   "source": [
    "#### Thresholds for the fixed costs of copying of the incumbent\n",
    "\n",
    "| Threshold   | Formula of the Threshold                 | Threshold Description |\n",
    "|:------------|:-----------------------------------------|:----------------------|\n",
    "| $F^{YY}_S$  | $\\delta(1-\\beta)$                        | Maximum level of copying costs that ensure that the incumbent copies the entrant if the entrant is guaranteed to invest in a perfect substitute\n",
    "| $F^{YN}_S$  | $u+\\delta(2-\\beta)$                      | Maximum level of copying costs that ensure that the incumbent copies the entrant if the copying prevents the entrant from developing a perfect substitute\n",
    "| $F^{YY}_C$  | $2\\delta(1-\\beta)$                       | Maximum level of copying costs that ensure that the incumbent copies the entrant if the entrant is guaranteed to invest in another complement\n",
    "| $F^{YN}_C$  | $\\delta(2-3\\beta)$                       | Maximum level of copying costs that ensure that the incumbent copies the entrant if the copying prevents the entrant from developing another complement\n",
    "| $F^{ACQ}_S$ | $\\frac{(u+\\Delta-K)}{2}+\\delta(2-\\beta)$ | Maximum level of fixed costs that ensure that the incumbent acquires the entrant if the entrant develops a substitute\n",
    "| $F^{ACQ}_C$ | $\\delta(\\frac{5}{2}-3\\beta)-\\frac{K}{2}$ | Maximum level of fixed costs that ensure that the incumbent acquires the entrant if the entrant develops a second complement\n",
    "\n",
    "### Effects\n",
    "- Effects are valid for the BaseModel and the BargainingPowerModel\n",
    "- Limited validity for the UnobservableModel and the AcquisitionModel\n",
    "    - Different thresholds\n",
    "    - Different equilibrium paths"
   ]
  },
  {
   "cell_type": "markdown",
   "metadata": {
    "slideshow": {
     "slide_type": "slide"
    }
   },
   "source": [
    "### Interactive comparison of the equilibrium"
   ]
  },
  {
   "cell_type": "code",
   "execution_count": 4,
   "metadata": {
    "pycharm": {
     "name": "#%%\n"
    },
    "scrolled": true,
    "slideshow": {
     "slide_type": "skip"
    }
   },
   "outputs": [],
   "source": [
    "# setup for the interactive plots\n",
    "# setup environment\n",
    "import matplotlib.pyplot as plt\n",
    "%matplotlib inline\n",
    "%config InlineBackend.figure_format ='svg'\n",
    "\n",
    "import ipywidgets as widgets\n",
    "from IPython.display import display\n",
    "\n",
    "import Shelegia_Motta_2021\n",
    "\n",
    "base_model: Shelegia_Motta_2021.IModel = Shelegia_Motta_2021.BaseModel()\n",
    "\n",
    "layout_slider = widgets.Layout(width=\"300px\")\n",
    "layout_widget = widgets.Layout(width=\"280px\", height=\"25px\", margin_left=\"50\")\n",
    "u_slider = widgets.FloatSlider(value = 1.0, min = 0.9, max = 1.1, step = 0.01, description = '$u$', layout=layout_slider)\n",
    "B_slider = widgets.FloatSlider(value = 0.5, min = 0.4, max = 0.6, step = 0.01, description = '$B$', layout=layout_slider)\n",
    "small_delta_slider = widgets.FloatSlider(value = 0.5, min = 0.4, max = 0.6, step = 0.01, description = '$\\delta$', layout=layout_slider)\n",
    "delta_slider = widgets.FloatSlider(value = 0.51, min = 0.4, max = 0.6, step = 0.01, description = '$\\Delta$', layout=layout_slider)\n",
    "K_slider = widgets.FloatSlider(value = 0.2, min = 0.1, max = 0.3, step = 0.01, description = '$K$', layout=layout_slider)\n",
    "beta_slider = widgets.FloatSlider(value = 0.5, min = 0.4, max = 0.6, step = 0.01, description = '$\\\\beta$', layout=layout_slider)\n",
    "models = widgets.Dropdown(options=['BargainingModel', 'UnobservableModel', 'AcquisitionModel'], value='BargainingModel', layout=layout_widget)\n",
    "\n",
    "def on_button_clicked(_):\n",
    "    u_slider.value = 1\n",
    "    B_slider.value = 0.5\n",
    "    small_delta_slider.value = 0.5\n",
    "    delta_slider.value = 0.51\n",
    "    K_slider.value = 0.2\n",
    "    beta_slider.value = 0.5\n",
    "\n",
    "button = widgets.Button(description=\"Reset\", layout=layout_widget)\n",
    "button.on_click(on_button_clicked)\n",
    "def plot(model:str, u: float, B: float, small_delta: float, delta: float, K: float, beta: float):\n",
    "    figure, (axis_base, axis_bargaining) = plt.subplots(ncols=2, figsize=(12, 4))\n",
    "    base_model.plot_equilibrium(axis=axis_base, title=\"BaseModel (default parameters)\", x_max=0.7, y_max=2)\n",
    "    try:\n",
    "        if model == 'BargainingModel':\n",
    "            Shelegia_Motta_2021.BargainingPowerModel(u=u, B=B, delta=delta, small_delta=small_delta,K=K, beta=beta).plot_equilibrium(axis=axis_bargaining, title=model, x_max=0.7, y_max=2)\n",
    "        elif model == 'UnobservableModel':\n",
    "            Shelegia_Motta_2021.UnobservableModel(u=u, B=B, delta=delta, small_delta=small_delta,K=K, beta=beta).plot_equilibrium(axis=axis_bargaining, title=model, x_max=0.7, y_max=2)\n",
    "        else:\n",
    "            Shelegia_Motta_2021.AcquisitionModel(u=u, B=B, delta=delta, small_delta=small_delta,K=K, beta=beta).plot_equilibrium(axis=axis_bargaining, title=model, x_max=0.7, y_max=2)\n",
    "    except AssertionError as e:\n",
    "        # prints the reason for a failed assertion\n",
    "        print(e)"
   ]
  },
  {
   "cell_type": "code",
   "execution_count": 5,
   "metadata": {
    "scrolled": true,
    "slideshow": {
     "slide_type": "subslide"
    }
   },
   "outputs": [
    {
     "data": {
      "text/plain": "GridBox(children=(FloatSlider(value=1.0, description='$u$', layout=Layout(width='300px'), max=1.1, min=0.9, st…",
      "application/vnd.jupyter.widget-view+json": {
       "version_major": 2,
       "version_minor": 0,
       "model_id": "5f526b26c2934ee0b69006b89eeec24f"
      }
     },
     "metadata": {},
     "output_type": "display_data"
    },
    {
     "data": {
      "text/plain": "Output()",
      "application/vnd.jupyter.widget-view+json": {
       "version_major": 2,
       "version_minor": 0,
       "model_id": "74dc73108bd34e1194d2098e51a62b54"
      }
     },
     "metadata": {},
     "output_type": "display_data"
    }
   ],
   "source": [
    "# run the cell above, to ensure the functionality of the interactive plots\n",
    "display(widgets.GridBox([u_slider, B_slider, small_delta_slider, delta_slider, K_slider, beta_slider, models, button], titles=[\"$u$\"], layout=widgets.Layout(grid_template_columns=\"repeat(4, 300px)\"), align_content=\"stretch\"))\n",
    "widgets.interactive_output(plot, {'model': models, 'u': u_slider, 'B':B_slider, 'small_delta': small_delta_slider, 'delta':delta_slider, 'K': K_slider, 'beta': beta_slider})"
   ]
  },
  {
   "cell_type": "markdown",
   "metadata": {
    "pycharm": {
     "name": "#%% md\n"
    },
    "slideshow": {
     "slide_type": "subslide"
    }
   },
   "source": [
    "#### Effects of the parameters on the Kill Zone\n",
    "\n",
    "- Ceteris paribus effects\n",
    "\n",
    "| Parameter Trend    | Effect       | Affected Threshold(s) (Fixed costs and assets) | Explanation |\n",
    "|:-------------------|:------------:|:----------------------------------|:------------|\n",
    "| $u\\uparrow$        | $\\uparrow$   | $F^{YN}_S\\uparrow$                | As $u$ increases, the incumbent makes a higher profit from his primary product and therefore will be willing to copy the entrant in more cases, if it will prevent the entrant from developing a substitute.\n",
    "| $u\\downarrow$      | $\\downarrow$ | $F^{YN}_S\\downarrow$              | As $u$ decreases, the incumbent makes a smaller profit from his primary product and therefore will be willing to copy the entrant in less cases, if it will prevent the entrant from developing a substitute.\n",
    "| $B\\uparrow$        | $\\uparrow$   | $\\overline{A}_S\\uparrow$          | As $B$ increases, the higher private benefit of the entrant leads to a higher burden to find potential investors for additional assets. Therefore, the entrant will rather develop a complementary product, to prevent the incumbent form copying its product.\n",
    "| $B\\downarrow$      | $\\downarrow$ | $\\overline{A}_S\\downarrow$        | As $B$ decreases, the smaller private benefit of the entrant leads to a lower burden to find potential investors for additional assets. Therefore, the entrant will more likely develop a substitute.\n",
    "| $\\delta\\uparrow$   | $\\uparrow$   | $\\Delta F^{YN}_S>\\Delta F^{YN}_C$ | As $\\delta$ increases, the incumbent will gain more from the complementary product produced by the entrant (this effect is stronger than the additional profit for the entrant). Therefore, the incentive for the incumbent to not copy the entrant increases, if the entrant develops a complementary product.\n",
    "| $\\delta\\downarrow$ | $\\downarrow$ | $\\Delta F^{YN}_S>\\Delta F^{YN}_C$ | As $\\delta$ decreases, the incumbent will gain less from the complementary product produced by the entrant (this effect is stronger than the loss of profit for the entrant). Therefore, the incentive for the incumbent to copy the entrant increases, if the entrant develops a complementary product.\n",
    "| $\\Delta\\uparrow$   | $\\downarrow$ | $\\overline{A}_S\\uparrow$          | As $\\Delta$ increases, the payoff for the entrant for a substitute increases. Therefore, the entrant will rather try to develop a substitute than a complementary product.\n",
    "| $\\Delta\\downarrow$ | $\\uparrow$   | $\\overline{A}_S\\downarrow$        | As $\\Delta$ decreases, the payoff for the entrant for a substitute decreases. Therefore, the entrant will rather try to develop a complementary product than a substitute.\n",
    "| $K\\uparrow$        | $\\uparrow$   | $\\overline{A}_S\\uparrow$          | As $K$ increases, the development costs for an additional product increase. Therefore, the entrant needs to obtain more additional assets for the development, if the incumbent copies the complementary product.\n",
    "| $K\\downarrow$      | $\\downarrow$ | $\\overline{A}_S\\downarrow$        | As $K$ decreases, the development costs for an additional product decrease. Therefore, the entrant needs to obtain less additional assets for the development, if the incumbent copies the complementary product.\n",
    "| $\\beta\\uparrow$    | $\\uparrow$   | $\\Delta F^{YN}_C>\\Delta F^{YN}_S$ | As $\\beta$ increases, the profits of the incumbent from the complementary product of the entrant increase. Therefore, the incumbent will less likely copy the entrant, if the entrant develops a complementary product.\n",
    "| $\\beta\\downarrow$  | $\\downarrow$ | $\\Delta F^{YN}_C>\\Delta F^{YN}_S$ | As $\\beta$ decreases, the profits of the incumbent from the complementary product of the entrant decrease. Therefore, the incumbent will more likely copy the entrant, if the entrant develops a complementary product."
   ]
  }
 ],
 "metadata": {
  "celltoolbar": "Slideshow",
  "kernelspec": {
   "display_name": "Python 3 (ipykernel)",
   "language": "python",
   "name": "python3"
  },
  "language_info": {
   "codemirror_mode": {
    "name": "ipython",
    "version": 3
   },
   "file_extension": ".py",
   "mimetype": "text/x-python",
   "name": "python",
   "nbconvert_exporter": "python",
   "pygments_lexer": "ipython3",
   "version": "3.8.6"
  }
 },
 "nbformat": 4,
 "nbformat_minor": 1
}